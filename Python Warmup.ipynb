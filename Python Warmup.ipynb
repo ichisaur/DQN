{
 "cells": [
  {
   "cell_type": "code",
   "execution_count": null,
   "metadata": {
    "collapsed": true
   },
   "outputs": [],
   "source": []
  },
  {
   "cell_type": "code",
   "execution_count": 44,
   "metadata": {},
   "outputs": [
    {
     "name": "stdout",
     "output_type": "stream",
     "text": [
      "5  should be 5.\n",
      "{1: <__main__.Node object at 0x000001C7767A2898>}\n",
      "{1: <__main__.Node object at 0x000001C7767A2898>}  should be {1: 7}.\n"
     ]
    }
   ],
   "source": [
    "# DOCUMENTATION\n",
    "# =====================================\n",
    "# Class node attributes:\n",
    "# ----------------------------\n",
    "# children - dictionary containing the children where the key is child number (1,...,k) and the value is the actual node object\n",
    "# if node has no children, self.children = None\n",
    "# value - value at the node\n",
    "#\n",
    "#\n",
    "# The values for bfs should be returned as simply a string of value space value space value. For example if the tree looks like the following:\n",
    "#     5\n",
    "#   2   3\n",
    "#\n",
    "# The tree data structure is a node with value 5, with a dictionary of children {1: b, 2: c} where b is a node with value 2 and c is a node with value 3.  Both b and c have children of None.\n",
    "# The bfs traversal of the above tree should return the string '5 2 3'\n",
    "class Node:\n",
    "    def __init__(self):\n",
    "        self.value = None\n",
    "        self.children = None\n",
    "\n",
    "    def get_value(self):\n",
    "\n",
    "        '''\n",
    "        given a node, will return the value at this node\n",
    "        '''\n",
    "        return self.value\n",
    "\n",
    "    def get_children(self):\n",
    "\n",
    "        '''\n",
    "        given a node, will return the children of this node\n",
    "        '''\n",
    "        return self.children\n",
    "\n",
    "def breadth_first_search(root):\n",
    "\n",
    "    '''\n",
    "    given the root node, will complete a breadth-first-search on the tree, returning the value of each node in the correct order\n",
    "    '''\n",
    "\n",
    "    nodes = []\n",
    "    stack = [root]\n",
    "    while stack:\n",
    "        cur_node = stack[0]\n",
    "        stack = stack[1:]\n",
    "        nodes.append(cur_node)\n",
    "        for child in cur_node.get_children():\n",
    "            print(cur_node.get_children);\n",
    "            stack.append(cur_node.get_children[child])\n",
    "    return nodes\n",
    "        \n",
    "\n",
    "def tester():\n",
    "    a = Node()\n",
    "    a.value = 5\n",
    "    b = Node()\n",
    "    b.value = 7\n",
    "    a.children = {1: b}\n",
    "    print(a.get_value(),' should be 5.')\n",
    "    print(a.get_children())\n",
    "    print(a.get_children(), ' should be {1: ' + str(b.get_value()) + '}.')\n",
    "    #print(breadth_first_search(a),' should be 5 7.')\n",
    "\n",
    "tester()"
   ]
  },
  {
   "cell_type": "code",
   "execution_count": 47,
   "metadata": {},
   "outputs": [
    {
     "name": "stdout",
     "output_type": "stream",
     "text": [
      "{1: <__main__.Node object at 0x000001C7767BD400>}\n"
     ]
    }
   ],
   "source": [
    "class Node:\n",
    "    def __init__(self):\n",
    "        self.value = None\n",
    "        self.children = None\n",
    "\n",
    "    def get_value(self):\n",
    "\n",
    "        '''\n",
    "        given a node, will return the value at this node\n",
    "        '''\n",
    "        return self.value\n",
    "\n",
    "    def get_children(self):\n",
    "\n",
    "        '''\n",
    "        given a node, will return the children of this node\n",
    "        '''\n",
    "        return self.children\n",
    "    \n",
    "a = Node()\n",
    "b = Node()\n",
    "a.children = {1: b}\n",
    "\n",
    "b.value = 7\n",
    "print(str(a.get_children()))\n"
   ]
  },
  {
   "cell_type": "code",
   "execution_count": null,
   "metadata": {
    "collapsed": true
   },
   "outputs": [],
   "source": []
  },
  {
   "cell_type": "code",
   "execution_count": null,
   "metadata": {
    "collapsed": true
   },
   "outputs": [],
   "source": []
  },
  {
   "cell_type": "code",
   "execution_count": null,
   "metadata": {
    "collapsed": true
   },
   "outputs": [],
   "source": []
  }
 ],
 "metadata": {
  "kernelspec": {
   "display_name": "Python 3",
   "language": "python",
   "name": "python3"
  },
  "language_info": {
   "codemirror_mode": {
    "name": "ipython",
    "version": 3
   },
   "file_extension": ".py",
   "mimetype": "text/x-python",
   "name": "python",
   "nbconvert_exporter": "python",
   "pygments_lexer": "ipython3",
   "version": "3.6.1"
  }
 },
 "nbformat": 4,
 "nbformat_minor": 2
}
