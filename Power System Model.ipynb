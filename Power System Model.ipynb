{
 "cells": [
  {
   "cell_type": "markdown",
   "metadata": {},
   "source": [
    "There are several functions that need to be genrated\n",
    "\n",
    "elements return number of elements in the system\n",
    "reward(state) returns how optimized the system is given a state\n",
    "step(state) add element to state at the end."
   ]
  },
  {
   "cell_type": "code",
   "execution_count": null,
   "metadata": {
    "collapsed": true
   },
   "outputs": [],
   "source": [
    "def reset(void): \n",
    "    #resets all variables\n",
    "    #returns a dict with with the reset state, dict of size of getSize, with all values reset to default state\n",
    "    return emptyState\n",
    "\n",
    "def getRandomSample(void):\n",
    "    #returns node that hasn't been traversed it, an int (I think)\n",
    "    return node\n",
    "\n",
    "def getSize(void):\n",
    "    #returns numbers of nodes in system, int\n",
    "    return size\n",
    "\n",
    "def step(int node):\n",
    "    #appends node to dict list\n",
    "    #returns reward of traversing said node\n",
    "    #check if node was already traversed, if so, decrease reward to 0\n",
    "    #returns new state, and reward\n",
    "    return state, reward\n",
    "\n",
    "def getReward(state):\n",
    "    #state is a dictionary containing all the elements, -1 if not traversed yet, and integers corresponding to all the other elements\n",
    "    #get reward calculates the reward based on the models and returns it.\n",
    "    return int\n",
    "\n",
    "#extra functions may be used to assist in the calculations, but these are the ones that are neccessary for the model to work\n",
    "#as far as scoring goes, the algorithm tries to maximize the score. \n",
    "#Take time to the -1 power, then multiply by an arbitray integer to get score. If the node is already on the list, the reward is 0\n",
    "\n"
   ]
  }
 ],
 "metadata": {
  "kernelspec": {
   "display_name": "Python 3",
   "language": "python",
   "name": "python3"
  },
  "language_info": {
   "codemirror_mode": {
    "name": "ipython",
    "version": 3
   },
   "file_extension": ".py",
   "mimetype": "text/x-python",
   "name": "python",
   "nbconvert_exporter": "python",
   "pygments_lexer": "ipython3",
   "version": "3.5.3"
  }
 },
 "nbformat": 4,
 "nbformat_minor": 2
}
